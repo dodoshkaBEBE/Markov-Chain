{
 "cells": [
  {
   "cell_type": "code",
   "execution_count": 1,
   "id": "c69d527c-9182-4c32-b2dc-972de76b1c25",
   "metadata": {
    "execution": {
     "iopub.execute_input": "2024-12-17T19:05:39.444180Z",
     "iopub.status.busy": "2024-12-17T19:05:39.443252Z",
     "iopub.status.idle": "2024-12-17T19:05:41.885037Z",
     "shell.execute_reply": "2024-12-17T19:05:41.884200Z",
     "shell.execute_reply.started": "2024-12-17T19:05:39.444134Z"
    },
    "tags": []
   },
   "outputs": [],
   "source": [
    "from tslearn.clustering import TimeSeriesKMeans\n",
    "from tslearn.preprocessing import TimeSeriesScalerMeanVariance\n",
    "import pandas as pd\n",
    "import matplotlib.pyplot as plt\n",
    "import numpy as np\n",
    "from sklearn.decomposition import PCA\n",
    "import random\n",
    "from hmmlearn import hmm\n",
    "from hmmlearn.base import ConvergenceMonitor\n",
    "import plotly.express as px"
   ]
  },
  {
   "cell_type": "code",
   "execution_count": 2,
   "id": "8f4491f1-3f9a-479f-bb64-9303ba8e4e2b",
   "metadata": {
    "execution": {
     "iopub.execute_input": "2024-12-17T19:05:41.888233Z",
     "iopub.status.busy": "2024-12-17T19:05:41.886592Z",
     "iopub.status.idle": "2024-12-17T19:05:42.248549Z",
     "shell.execute_reply": "2024-12-17T19:05:42.247722Z",
     "shell.execute_reply.started": "2024-12-17T19:05:41.888186Z"
    },
    "tags": []
   },
   "outputs": [
    {
     "name": "stdout",
     "output_type": "stream",
     "text": [
      "Количество временных рядов: 35\n",
      "Длина каждого временного ряда: 197\n"
     ]
    }
   ],
   "source": [
    "df = pd.read_excel('dl_df_deposit.xlsx')\n",
    "indicator_data = df.set_index(\"INDICATOR\")\n",
    "\n",
    "time_series_data = indicator_data.values \n",
    "print(\"Количество временных рядов:\", time_series_data.shape[0])  \n",
    "print(\"Длина каждого временного ряда:\", time_series_data.shape[1]) \n",
    "\n",
    "# Нормализуем данные\n",
    "time_series_data = TimeSeriesScalerMeanVariance().fit_transform(time_series_data)"
   ]
  },
  {
   "cell_type": "markdown",
   "id": "95094456-7c8d-4f74-946e-033032f68a67",
   "metadata": {},
   "source": [
    "### С помощью метода локтя определяем оптимальное колво кластеров"
   ]
  },
  {
   "cell_type": "code",
   "execution_count": null,
   "id": "5c61e828-dca0-4f41-9f15-d613fbebe276",
   "metadata": {
    "execution": {
     "iopub.execute_input": "2024-12-17T19:05:42.251012Z",
     "iopub.status.busy": "2024-12-17T19:05:42.249503Z"
    },
    "tags": []
   },
   "outputs": [],
   "source": [
    "inertia = []  # Для хранения значений инерции\n",
    "k_values = range(1, 11)  # Количество кластеров для проверки\n",
    "\n",
    "# Проходим по количествам кластеров\n",
    "for k in k_values:\n",
    "    model = TimeSeriesKMeans(n_clusters=k, metric=\"dtw\", verbose=False, random_state=42)\n",
    "    model.fit(time_series_data)\n",
    "    inertia.append(model.inertia_)  # Добавляем инерцию для текущего k\n",
    "\n",
    "# Строим график метода локтя\n",
    "plt.figure(figsize=(8, 5))\n",
    "plt.plot(k_values, inertia, 'bo-', linewidth=2)\n",
    "plt.title('Метод локтя для временных рядов (DTW)', fontsize=14)\n",
    "plt.xlabel('Количество кластеров', fontsize=12)\n",
    "plt.ylabel('Инерция', fontsize=12)\n",
    "plt.grid()\n",
    "plt.show()\n"
   ]
  },
  {
   "cell_type": "markdown",
   "id": "7ea31d12-b223-42a7-9a37-053f47fd1d1f",
   "metadata": {},
   "source": [
    "### Кластеризируем с помощью TKMeans"
   ]
  },
  {
   "cell_type": "code",
   "execution_count": null,
   "id": "df3f6e81-0f00-45a9-a752-20ef5bc20534",
   "metadata": {
    "tags": []
   },
   "outputs": [],
   "source": [
    "# Кластеризация\n",
    "n_clusters = 4\n",
    "model = TimeSeriesKMeans(n_clusters=n_clusters, metric=\"dtw\", verbose=True, random_state=42)\n",
    "clusters = model.fit_predict(time_series_data)\n",
    "\n",
    "# Создаём DataFrame с результатами кластеризации\n",
    "indicator_clusters = pd.DataFrame({\n",
    "    \"Indicator\": indicator_data.index,  # Индикаторы теперь это индексы\n",
    "    \"Cluster\": clusters\n",
    "})\n",
    "\n",
    "# Выводим распределение индикаторов по кластерам\n",
    "print(indicator_clusters.groupby(\"Cluster\").size())\n"
   ]
  },
  {
   "cell_type": "markdown",
   "id": "9fec958b-691f-4048-9fca-95690ecb82aa",
   "metadata": {},
   "source": [
    "### Смотрим на корректность разбиения"
   ]
  },
  {
   "cell_type": "code",
   "execution_count": null,
   "id": "ca1550bc-54bb-4728-9385-116914e827a0",
   "metadata": {
    "tags": []
   },
   "outputs": [],
   "source": [
    "plt.figure(figsize=(20, 10))\n",
    "for cluster in range(n_clusters):\n",
    "    plt.subplot(2, 5, cluster + 1)\n",
    "    for i, series in enumerate(time_series_data):\n",
    "        if clusters[i] == cluster:\n",
    "            plt.plot(series.ravel(), alpha=0.5)\n",
    "    plt.title(f'Кластер {cluster}')\n",
    "plt.tight_layout()\n",
    "plt.show()\n",
    "\n",
    "plt.figure(figsize=(10, 6))\n",
    "for cluster_idx in range(n_clusters):\n",
    "    plt.plot(model.cluster_centers_[cluster_idx].ravel(), label=f'Кластер {cluster_idx}')\n",
    "plt.title('Центроиды кластеров')\n",
    "plt.xlabel('Временные точки')\n",
    "plt.ylabel('Значения')\n",
    "plt.legend()\n",
    "plt.grid()\n",
    "plt.show()\n"
   ]
  },
  {
   "cell_type": "code",
   "execution_count": null,
   "id": "22862d54-3a23-47e2-babc-91de6e27da73",
   "metadata": {
    "tags": []
   },
   "outputs": [],
   "source": [
    "indicator_clusters"
   ]
  },
  {
   "cell_type": "markdown",
   "id": "cabfe1a0-05b3-413c-8b82-cde8aad7fd50",
   "metadata": {},
   "source": [
    "### Добавляем в датасет метки кластеров"
   ]
  },
  {
   "cell_type": "code",
   "execution_count": null,
   "id": "d9ebe3d1-e7e4-4417-87b7-1103217ca634",
   "metadata": {
    "tags": []
   },
   "outputs": [],
   "source": [
    "df = pd.read_excel('dl_df_deposit.xlsx')\n",
    "indicator_data = df.set_index(\"INDICATOR\") \n",
    "time_series_data = indicator_data.values \n",
    "scaler = TimeSeriesScalerMeanVariance()\n",
    "normalized_data = scaler.fit_transform(time_series_data)\n",
    "normalized_df = pd.DataFrame(normalized_data.reshape(normalized_data.shape[0], -1), \n",
    "                              index=indicator_data.index, \n",
    "                              columns=indicator_data.columns)\n",
    "normalized_df = normalized_df.reset_index()\n",
    "result = pd.merge(normalized_df, indicator_clusters, left_on='INDICATOR', right_on='Indicator', how='inner')\n",
    "result = result.drop(columns=['Indicator',\"INDICATOR\"])\n",
    "result = result.set_index(['Cluster'])\n",
    "result"
   ]
  },
  {
   "cell_type": "markdown",
   "id": "8c1efcbd-bbc5-4ab0-9b88-c9d6ff8b214a",
   "metadata": {},
   "source": [
    "### Проходимся PCA по каждому кластеру в каждый момент времени"
   ]
  },
  {
   "cell_type": "code",
   "execution_count": null,
   "id": "73fb5670-4cd1-4140-8178-c54e2b085cfe",
   "metadata": {
    "tags": []
   },
   "outputs": [],
   "source": [
    "# Получаем уникальные кластеры и месяцы\n",
    "clusters = result.index.get_level_values(0).unique()  \n",
    "months = result.columns \n",
    "pca_results = []\n",
    "\n",
    "for cluster in clusters:\n",
    "    cluster_data = result.loc[cluster] \n",
    "    \n",
    "    for month in months:\n",
    "        month_data = cluster_data[month].dropna().values.reshape(-1, 1)  # Извлекаем данные за месяц и удаляем пропуски\n",
    "        if month_data.size > 0:\n",
    "            pca = PCA(n_components=1) \n",
    "            pca_result = pca.fit_transform(month_data)  \n",
    "            pca_results.append({\n",
    "                'Cluster': cluster,\n",
    "                'Month': month,\n",
    "                'PCA_Result': pca_result.flatten()[0]\n",
    "            })\n",
    "\n",
    "results_df = pd.DataFrame(pca_results)\n",
    "print(results_df)"
   ]
  },
  {
   "cell_type": "code",
   "execution_count": null,
   "id": "1d332a2f-91c6-4c4b-81f7-45e70c291066",
   "metadata": {
    "tags": []
   },
   "outputs": [],
   "source": [
    "pivot_df = results_df.pivot(index='Month', columns='Cluster', values='PCA_Result')\n",
    "pivot_df"
   ]
  },
  {
   "cell_type": "markdown",
   "id": "3dc55498-cc69-4eb0-a824-7dfc448ddaf0",
   "metadata": {},
   "source": [
    "### Строим модель"
   ]
  },
  {
   "cell_type": "code",
   "execution_count": null,
   "id": "ac7036bc-aa57-4a02-a795-963543965ec8",
   "metadata": {
    "tags": []
   },
   "outputs": [],
   "source": [
    "# Для воспроизводимости графика\n",
    "random.seed(42)\n",
    "np.random.seed(42)\n",
    "\n",
    "pivot_df = results_df.pivot(index='Month', columns='Cluster', values='PCA_Result')\n",
    "X = pivot_df.values\n",
    "model = hmm.GaussianHMM(n_components=4, covariance_type=\"full\", init_params=\"mc\", n_iter=1000, tol=0.001, random_state=42) \n",
    "model.startprob_ = np.array([0, 1, 0, 0]) \n",
    "\n",
    "#Предполагаем, что вероятность перейти в другое состояние маленькая\n",
    "# Начальные значения для p_00, p_11, p_22 и p_33\n",
    "p_00 = 0.9   # Вероятность остаться в состоянии 0\n",
    "p_11 = 0.9   # Вероятность остаться в состоянии 1\n",
    "p_22 = 0.9   # Вероятность остаться в состоянии 2\n",
    "p_33 = 0.9   # Вероятность остаться в состоянии 3\n",
    "\n",
    "# Матрица переходов, с учетом, что из пика нельзя попасть сразу в рецессию итд\n",
    "model.transmat_ = np.array([\n",
    "    [p_00, (1 - p_00), 0, 0],          # Переходы из состояния 0\n",
    "    [0, p_11, (1 - p_11), 0],          # Переходы из состояния 1\n",
    "    [0, 0, p_22, (1 - p_22)],          # Переходы из состояния 2\n",
    "    [(1 - p_33), 0, 0, p_33]           # Переходы из состояния 3\n",
    "])\n",
    "\n",
    "model.fit(X)\n",
    "hidden_states = model.predict(X)\n",
    "\n",
    "# Вывод начальных параметров\n",
    "print(\"Начальные вероятности:\")\n",
    "print(model.startprob_)\n",
    "print(\"Начальная матрица переходов:\")\n",
    "print(model.transmat_)\n",
    "print(\"Начальные средние значения:\")\n",
    "print(model.means_)\n",
    "print(\"Начальные ковариационные матрицы:\")\n",
    "print(model.covars_)\n",
    "\n",
    "print(\"Обученная матрица переходов:\")\n",
    "print(model.transmat_)\n",
    "print(\"Изменения лосса на каждом шаге:\")\n",
    "model.monitor_"
   ]
  },
  {
   "cell_type": "markdown",
   "id": "85a67bb8-1585-4d21-8bc0-d97c0aea368c",
   "metadata": {},
   "source": [
    "Сохраняем веса модели"
   ]
  },
  {
   "cell_type": "code",
   "execution_count": null,
   "id": "8688858a-6a0b-465f-8dbb-5df9fa4c8049",
   "metadata": {
    "tags": []
   },
   "outputs": [],
   "source": [
    "import pickle\n",
    "initial_params = {\n",
    "    'startprob_': model.startprob_,\n",
    "    'transmat_': model.transmat_,\n",
    "    'means_': model.means_,\n",
    "    'covars_': model.covars_\n",
    "}\n",
    "\n",
    "with open('initial_params.pkl', 'wb') as f:\n",
    "    pickle.dump(initial_params, f)\n",
    "with open('initial_params.pkl', 'rb') as f:\n",
    "    loaded_params = pickle.load(f)\n",
    "print(\"Загруженные начальные параметры:\")\n",
    "print(\"Начальные вероятности:\")\n",
    "print(loaded_params['startprob_'])\n",
    "print(\"Начальная матрица переходов:\")\n",
    "print(loaded_params['transmat_'])\n",
    "print(\"Начальные средние значения:\")\n",
    "print(loaded_params['means_'])\n",
    "print(\"Начальные ковариационные матрицы:\")\n",
    "print(loaded_params['covars_'])"
   ]
  },
  {
   "cell_type": "code",
   "execution_count": null,
   "id": "5de66d69-6048-415e-8421-d970555e79b2",
   "metadata": {
    "tags": []
   },
   "outputs": [],
   "source": [
    "history = list(model.monitor_.history)  \n",
    "plt.figure(figsize=(10, 6))\n",
    "plt.plot(history, marker='o')\n",
    "plt.title('История логарифмической вероятности')\n",
    "plt.xlabel('Итерация')\n",
    "plt.ylabel('Логарифмическая вероятность')\n",
    "plt.grid()\n",
    "plt.show()"
   ]
  },
  {
   "cell_type": "code",
   "execution_count": null,
   "id": "f8faa477-7900-4322-ad08-adf1f3fc1a86",
   "metadata": {
    "tags": []
   },
   "outputs": [],
   "source": [
    "log_likelihood = model.score(X)\n",
    "print(f\"Логарифмическая вероятность наблюдаемых данных: {log_likelihood}\")"
   ]
  },
  {
   "cell_type": "code",
   "execution_count": null,
   "id": "8413ced2-336d-462e-ba4f-8d87ff9aaae7",
   "metadata": {
    "tags": []
   },
   "outputs": [],
   "source": [
    "pivot_df['Hidden_States'] = hidden_states\n",
    "pivot_df['Hidden_States'] = pivot_df['Hidden_States'].replace({0:0.1, 1:1, 2: -0.1, 3:-1}) #меняем значения для красивого графика\n",
    "pivot_df = pivot_df.reset_index()\n",
    "pivot_df['Hidden_States_Label'] = pivot_df['Hidden_States'].replace({0.1: 'рост', 1: 'пик', -0.1: 'спад', -1: 'рецессия'})\n",
    "pivot_df = pivot_df.reset_index()"
   ]
  },
  {
   "cell_type": "markdown",
   "id": "80696738-66af-4159-9cb0-b459988d67db",
   "metadata": {},
   "source": [
    "### Результат моделирования"
   ]
  },
  {
   "cell_type": "code",
   "execution_count": null,
   "id": "f4d2e711-130d-49c8-9c42-e30b88bff0d4",
   "metadata": {
    "tags": []
   },
   "outputs": [],
   "source": [
    "fig = px.line(pivot_df, x='Month', y='Hidden_States', title='Интерактивный график Hidden States', hover_data={'Hidden_States_Label': True})\n",
    "fig.show()"
   ]
  },
  {
   "cell_type": "markdown",
   "id": "1c64ebbe-030c-4f6e-a712-35dcd6c406d3",
   "metadata": {},
   "source": [
    "### Дополнительный график"
   ]
  },
  {
   "cell_type": "code",
   "execution_count": null,
   "id": "cefb522d-cd1f-4091-bbb2-e5d732acc7e1",
   "metadata": {
    "tags": []
   },
   "outputs": [],
   "source": [
    "plt.figure(figsize=(10, 6))\n",
    "plt.plot(pivot_df['Month'], pivot_df['Hidden_States'], marker='o', linestyle='-', color='b')\n",
    "plt.title('График Hidden States')\n",
    "plt.xlabel('Месяц')\n",
    "plt.ylabel('Hidden States')\n",
    "plt.show()"
   ]
  },
  {
   "cell_type": "markdown",
   "id": "d0d3c139-4bdb-4bd6-8217-a1bc9205d699",
   "metadata": {},
   "source": [
    "### Дополнительный код, для запуска модели с сохраненными весами "
   ]
  },
  {
   "cell_type": "code",
   "execution_count": null,
   "id": "19970e18-9d58-4d55-92e1-abc843d2d587",
   "metadata": {
    "tags": []
   },
   "outputs": [],
   "source": [
    "import pickle\n",
    "from hmmlearn import hmm\n",
    "\n",
    "with open('initial_params.pkl', 'rb') as f:\n",
    "    loaded_params = pickle.load(f)\n",
    "\n",
    "model = hmm.GaussianHMM(n_components=4, covariance_type=\"full\", init_params=\"mc\", n_iter=1000, tol=0.001, random_state=42)\n",
    "\n",
    "# Установка загруженных параметров\n",
    "model.startprob_ = loaded_params['startprob_']\n",
    "model.transmat_ = loaded_params['transmat_']\n",
    "model.means_ = loaded_params['means_']\n",
    "model.covars_ = loaded_params['covars_']\n",
    "\n",
    "hidden_states = model.predict(X)\n",
    "print(\"Обученные параметры:\")\n",
    "print(\"Начальные вероятности:\")\n",
    "print(model.startprob_)\n",
    "print(\"Матрица переходов:\")\n",
    "print(model.transmat_)\n",
    "print(\"Средние значения:\")\n",
    "print(model.means_)\n",
    "print(\"Ковариационные матрицы:\")\n",
    "print(model.covars_)"
   ]
  },
  {
   "cell_type": "code",
   "execution_count": null,
   "id": "9b1bf188-6a62-4da9-a50e-203542b43f16",
   "metadata": {
    "tags": []
   },
   "outputs": [],
   "source": [
    "pivot_df = results_df.pivot(index='Month', columns='Cluster', values='PCA_Result')\n",
    "pivot_df['Hidden_States'] = hidden_states\n",
    "pivot_df['Hidden_States'] = pivot_df['Hidden_States'].replace({0:0.1, 1:1, 2: -0.1, 3:-1}) #меняем значения для красивого графика\n",
    "pivot_df = pivot_df.reset_index()\n",
    "pivot_df['Hidden_States_Label'] = pivot_df['Hidden_States'].replace({0.1: 'рост', 1: 'пик', -0.1: 'спад', -1: 'рецессия'})\n",
    "pivot_df = pivot_df.reset_index()\n",
    "fig = px.line(pivot_df, x='Month', y='Hidden_States', title='Интерактивный график Hidden States', hover_data={'Hidden_States_Label': True})\n",
    "fig.show()"
   ]
  },
  {
   "cell_type": "markdown",
   "id": "68a6c5c0-3f31-46d6-a4bd-c7ecd731d3d6",
   "metadata": {},
   "source": [
    "### Дополнительный график"
   ]
  },
  {
   "cell_type": "code",
   "execution_count": null,
   "id": "7571fe77-dc64-4a06-8390-c09851de2d3c",
   "metadata": {
    "tags": []
   },
   "outputs": [],
   "source": [
    "plt.figure(figsize=(10, 6))\n",
    "plt.plot(pivot_df['Month'], pivot_df['Hidden_States'], marker='o', linestyle='-', color='b')\n",
    "plt.title('График Hidden States')\n",
    "plt.xlabel('Месяц')\n",
    "plt.ylabel('Hidden States')\n",
    "plt.show()"
   ]
  }
 ],
 "metadata": {
  "kernelspec": {
   "display_name": "DataSphere Kernel",
   "language": "python",
   "name": "python3"
  },
  "language_info": {
   "codemirror_mode": {
    "name": "ipython",
    "version": 3
   },
   "file_extension": ".py",
   "mimetype": "text/x-python",
   "name": "python",
   "nbconvert_exporter": "python",
   "pygments_lexer": "ipython3",
   "version": "3.10.12"
  }
 },
 "nbformat": 4,
 "nbformat_minor": 5
}
